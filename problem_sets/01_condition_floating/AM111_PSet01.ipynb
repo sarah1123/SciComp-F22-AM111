{
 "cells": [
  {
   "cell_type": "code",
   "execution_count": 2,
   "id": "f675deef",
   "metadata": {},
   "outputs": [
    {
     "name": "stdout",
     "output_type": "stream",
     "text": [
      "['1.000e+00', 1.05]\n",
      "['1.000e+01', 1.0511401320407896]\n",
      "['1.000e+02', 1.0512579599480434]\n",
      "['1.000e+03', 1.051269782331887]\n",
      "['1.000e+04', 1.0512709649679275]\n",
      "['1.000e+05', 1.051271083242487]\n",
      "['1.000e+06', 1.0512710949759108]\n",
      "['1.000e+07', 1.0512710959251617]\n",
      "['1.000e+08', 1.0512711007120112]\n",
      "['1.000e+09', 1.051271100723838]\n",
      "['1.000e+10', 1.0512711007250206]\n",
      "['1.000e+11', 1.0512757693170298]\n",
      "['1.000e+12', 1.0512290843310912]\n",
      "['1.000e+13', 1.052396831174442]\n",
      "['1.000e+14', 1.0454097574833083]\n",
      "['1.000e+15', 1.0]\n",
      "['1.000e+16', 1.0]\n",
      "['1.000e+17', 1.0]\n",
      "['1.000e+18', 1.0]\n",
      "['1.000e+19', 1.0]\n"
     ]
    }
   ],
   "source": [
    "n = 1\n",
    "x = 0.05\n",
    "interest_of_x = []\n",
    "for val in range(0, 20):\n",
    "    interest_of_x.append(['{:.3e}'.format(n), (1+x/n)**n])\n",
    "    n = 10*n\n",
    "# print formatting help from\n",
    "# https://stackoverflow.com/questions/58722579/python-print-list-of-numbers-in-scientific-notation#58722625\n",
    "\n",
    "print(*interest_of_x, sep='\\n')\n",
    "# more print formatting help from\n",
    "# https://www.geeksforgeeks.org/print-lists-in-python-4-different-ways/"
   ]
  },
  {
   "cell_type": "code",
   "execution_count": 4,
   "id": "1f7d79d2",
   "metadata": {},
   "outputs": [
    {
     "data": {
      "text/plain": [
       "1.0512710963760241"
      ]
     },
     "execution_count": 4,
     "metadata": {},
     "output_type": "execute_result"
    }
   ],
   "source": [
    "import numpy as np\n",
    "\n",
    "np.exp(x)"
   ]
  },
  {
   "cell_type": "code",
   "execution_count": null,
   "id": "2465b800",
   "metadata": {},
   "outputs": [],
   "source": []
  }
 ],
 "metadata": {
  "kernelspec": {
   "display_name": "Python 3 (ipykernel)",
   "language": "python",
   "name": "python3"
  },
  "language_info": {
   "codemirror_mode": {
    "name": "ipython",
    "version": 3
   },
   "file_extension": ".py",
   "mimetype": "text/x-python",
   "name": "python",
   "nbconvert_exporter": "python",
   "pygments_lexer": "ipython3",
   "version": "3.9.12"
  }
 },
 "nbformat": 4,
 "nbformat_minor": 5
}
